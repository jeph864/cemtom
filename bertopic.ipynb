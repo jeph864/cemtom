{
 "cells": [
  {
   "cell_type": "code",
   "execution_count": 3,
   "id": "1c14412a",
   "metadata": {},
   "outputs": [
    {
     "ename": "ImportError",
     "evalue": "cannot import name 'bertopic' from 'cemtom.models.bertopic' (/scratch-old/abijuru/thesis/tms/atlas/cemtom/models/bertopic.py)",
     "output_type": "error",
     "traceback": [
      "\u001b[0;31m---------------------------------------------------------------------------\u001b[0m",
      "\u001b[0;31mImportError\u001b[0m                               Traceback (most recent call last)",
      "Cell \u001b[0;32mIn[3], line 1\u001b[0m\n\u001b[0;32m----> 1\u001b[0m \u001b[38;5;28;01mfrom\u001b[39;00m \u001b[38;5;21;01mcemtom\u001b[39;00m\u001b[38;5;21;01m.\u001b[39;00m\u001b[38;5;21;01mmodels\u001b[39;00m\u001b[38;5;21;01m.\u001b[39;00m\u001b[38;5;21;01mbertopic\u001b[39;00m \u001b[38;5;28;01mimport\u001b[39;00m bertopic\n",
      "\u001b[0;31mImportError\u001b[0m: cannot import name 'bertopic' from 'cemtom.models.bertopic' (/scratch-old/abijuru/thesis/tms/atlas/cemtom/models/bertopic.py)"
     ]
    }
   ],
   "source": [
    "from cemtom.models.bertopic import bertopic"
   ]
  },
  {
   "cell_type": "code",
   "execution_count": null,
   "id": "6df0fbf4",
   "metadata": {},
   "outputs": [],
   "source": []
  }
 ],
 "metadata": {
  "kernelspec": {
   "display_name": "cemtom",
   "language": "python",
   "name": "cemtom"
  },
  "language_info": {
   "codemirror_mode": {
    "name": "ipython",
    "version": 3
   },
   "file_extension": ".py",
   "mimetype": "text/x-python",
   "name": "python",
   "nbconvert_exporter": "python",
   "pygments_lexer": "ipython3",
   "version": "3.8.18"
  }
 },
 "nbformat": 4,
 "nbformat_minor": 5
}
